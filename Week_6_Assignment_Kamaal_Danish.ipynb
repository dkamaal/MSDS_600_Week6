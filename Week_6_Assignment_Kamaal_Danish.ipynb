{
 "cells": [
  {
   "cell_type": "markdown",
   "id": "ca51c4c7",
   "metadata": {},
   "source": [
    "# Week 6-Assignment\n",
    "\n",
    "## MSDS 600 - Introduction to Data Science\n",
    "\n",
    "## Recommender Systems\n",
    "\n",
    "## Professor: Dr. Aiman Gannous\n",
    "\n",
    "### Prepared By: Danish Kamaal"
   ]
  },
  {
   "cell_type": "markdown",
   "id": "b77e1ef2",
   "metadata": {},
   "source": [
    "1. Perform some movie recommendations and analysis for user 2:\n",
    "- How many movies has this user watched?\n",
    "- Plot a bar chart of their movie ratings. The bar chart should be the counts of the number of unique ratings.\n",
    "    - Hint: the `sort_index()` function from pandas might be helpful to make the bar plot look nicer.\n",
    "- What are some of user 2's top movies?\n",
    "    - Hint: to get the actual movie titles, you can use pandas [merge](https://pandas.pydata.org/docs/reference/api/pandas.DataFrame.merge.html) function, although using the movie IDs is OK too.\n",
    "- Find the most similar user in the movielens dataset to user 2 using at least 2 distance metrics. Be sure to use cosine distance as one of your choices.\n",
    "- Recommend a few movies for user 2 using similarity metrics.\n",
    "- Do the recommendations from this method make sense?\n",
    "- Write a short analysis of the results, and justify which similarity metric(s) you used.\n",
    "\n",
    "Optional challenges:\n",
    "- Perform other analyses (e.g. EDA, visualizations) of the movies watched from this dataset, or from a bigger part of the dataset for the movielens dataset: https://grouplens.org/datasets/movielens/\n",
    "- Add yourself as a user in the data with ratings for movies you've watched, and find recommendations for next movies to watch. \n",
    "- Use a more advanced collaborative or content-based recommender to make recommendations (e.g. using the surprise package in Python)\n",
    "    - Try making predictions for user 2. How do they compare with our basic model?\n",
    "    - Add your own movie ratings, or use another recommender dataset and add your own preferences, then get recommendations for yourself"
   ]
  },
  {
   "cell_type": "markdown",
   "id": "4567a8b8",
   "metadata": {},
   "source": [
    "# Load and explore data"
   ]
  },
  {
   "cell_type": "code",
   "execution_count": 1,
   "id": "8f4b22ff",
   "metadata": {},
   "outputs": [],
   "source": [
    "import numpy as np\n",
    "import pandas as pd\n",
    "import matplotlib.pyplot as plt"
   ]
  },
  {
   "cell_type": "code",
   "execution_count": 2,
   "id": "6b4631b5",
   "metadata": {},
   "outputs": [],
   "source": [
    "ratings = pd.read_csv('ratings.csv')\n",
    "movies = pd.read_csv('movies.csv')"
   ]
  },
  {
   "cell_type": "code",
   "execution_count": 3,
   "id": "f365b782",
   "metadata": {},
   "outputs": [
    {
     "data": {
      "text/html": [
       "<div>\n",
       "<style scoped>\n",
       "    .dataframe tbody tr th:only-of-type {\n",
       "        vertical-align: middle;\n",
       "    }\n",
       "\n",
       "    .dataframe tbody tr th {\n",
       "        vertical-align: top;\n",
       "    }\n",
       "\n",
       "    .dataframe thead th {\n",
       "        text-align: right;\n",
       "    }\n",
       "</style>\n",
       "<table border=\"1\" class=\"dataframe\">\n",
       "  <thead>\n",
       "    <tr style=\"text-align: right;\">\n",
       "      <th></th>\n",
       "      <th>movieId</th>\n",
       "      <th>title</th>\n",
       "      <th>genres</th>\n",
       "    </tr>\n",
       "  </thead>\n",
       "  <tbody>\n",
       "    <tr>\n",
       "      <th>0</th>\n",
       "      <td>1</td>\n",
       "      <td>Toy Story (1995)</td>\n",
       "      <td>Adventure|Animation|Children|Comedy|Fantasy</td>\n",
       "    </tr>\n",
       "    <tr>\n",
       "      <th>1</th>\n",
       "      <td>2</td>\n",
       "      <td>Jumanji (1995)</td>\n",
       "      <td>Adventure|Children|Fantasy</td>\n",
       "    </tr>\n",
       "    <tr>\n",
       "      <th>2</th>\n",
       "      <td>3</td>\n",
       "      <td>Grumpier Old Men (1995)</td>\n",
       "      <td>Comedy|Romance</td>\n",
       "    </tr>\n",
       "    <tr>\n",
       "      <th>3</th>\n",
       "      <td>4</td>\n",
       "      <td>Waiting to Exhale (1995)</td>\n",
       "      <td>Comedy|Drama|Romance</td>\n",
       "    </tr>\n",
       "    <tr>\n",
       "      <th>4</th>\n",
       "      <td>5</td>\n",
       "      <td>Father of the Bride Part II (1995)</td>\n",
       "      <td>Comedy</td>\n",
       "    </tr>\n",
       "  </tbody>\n",
       "</table>\n",
       "</div>"
      ],
      "text/plain": [
       "   movieId                               title  \\\n",
       "0        1                    Toy Story (1995)   \n",
       "1        2                      Jumanji (1995)   \n",
       "2        3             Grumpier Old Men (1995)   \n",
       "3        4            Waiting to Exhale (1995)   \n",
       "4        5  Father of the Bride Part II (1995)   \n",
       "\n",
       "                                        genres  \n",
       "0  Adventure|Animation|Children|Comedy|Fantasy  \n",
       "1                   Adventure|Children|Fantasy  \n",
       "2                               Comedy|Romance  \n",
       "3                         Comedy|Drama|Romance  \n",
       "4                                       Comedy  "
      ]
     },
     "execution_count": 3,
     "metadata": {},
     "output_type": "execute_result"
    }
   ],
   "source": [
    "movies.head()"
   ]
  },
  {
   "cell_type": "code",
   "execution_count": 4,
   "id": "db111d13",
   "metadata": {},
   "outputs": [
    {
     "data": {
      "text/html": [
       "<div>\n",
       "<style scoped>\n",
       "    .dataframe tbody tr th:only-of-type {\n",
       "        vertical-align: middle;\n",
       "    }\n",
       "\n",
       "    .dataframe tbody tr th {\n",
       "        vertical-align: top;\n",
       "    }\n",
       "\n",
       "    .dataframe thead th {\n",
       "        text-align: right;\n",
       "    }\n",
       "</style>\n",
       "<table border=\"1\" class=\"dataframe\">\n",
       "  <thead>\n",
       "    <tr style=\"text-align: right;\">\n",
       "      <th></th>\n",
       "      <th>userId</th>\n",
       "      <th>movieId</th>\n",
       "      <th>rating</th>\n",
       "      <th>timestamp</th>\n",
       "    </tr>\n",
       "  </thead>\n",
       "  <tbody>\n",
       "    <tr>\n",
       "      <th>0</th>\n",
       "      <td>1</td>\n",
       "      <td>1</td>\n",
       "      <td>4.0</td>\n",
       "      <td>964982703</td>\n",
       "    </tr>\n",
       "    <tr>\n",
       "      <th>1</th>\n",
       "      <td>1</td>\n",
       "      <td>3</td>\n",
       "      <td>4.0</td>\n",
       "      <td>964981247</td>\n",
       "    </tr>\n",
       "    <tr>\n",
       "      <th>2</th>\n",
       "      <td>1</td>\n",
       "      <td>6</td>\n",
       "      <td>4.0</td>\n",
       "      <td>964982224</td>\n",
       "    </tr>\n",
       "    <tr>\n",
       "      <th>3</th>\n",
       "      <td>1</td>\n",
       "      <td>47</td>\n",
       "      <td>5.0</td>\n",
       "      <td>964983815</td>\n",
       "    </tr>\n",
       "    <tr>\n",
       "      <th>4</th>\n",
       "      <td>1</td>\n",
       "      <td>50</td>\n",
       "      <td>5.0</td>\n",
       "      <td>964982931</td>\n",
       "    </tr>\n",
       "  </tbody>\n",
       "</table>\n",
       "</div>"
      ],
      "text/plain": [
       "   userId  movieId  rating  timestamp\n",
       "0       1        1     4.0  964982703\n",
       "1       1        3     4.0  964981247\n",
       "2       1        6     4.0  964982224\n",
       "3       1       47     5.0  964983815\n",
       "4       1       50     5.0  964982931"
      ]
     },
     "execution_count": 4,
     "metadata": {},
     "output_type": "execute_result"
    }
   ],
   "source": [
    "ratings.head()"
   ]
  },
  {
   "cell_type": "markdown",
   "id": "aef2aee8",
   "metadata": {},
   "source": [
    "# Number of movies watched by User 2"
   ]
  },
  {
   "cell_type": "code",
   "execution_count": 5,
   "id": "5f8d87e7",
   "metadata": {},
   "outputs": [
    {
     "data": {
      "text/html": [
       "<div>\n",
       "<style scoped>\n",
       "    .dataframe tbody tr th:only-of-type {\n",
       "        vertical-align: middle;\n",
       "    }\n",
       "\n",
       "    .dataframe tbody tr th {\n",
       "        vertical-align: top;\n",
       "    }\n",
       "\n",
       "    .dataframe thead th {\n",
       "        text-align: right;\n",
       "    }\n",
       "</style>\n",
       "<table border=\"1\" class=\"dataframe\">\n",
       "  <thead>\n",
       "    <tr style=\"text-align: right;\">\n",
       "      <th></th>\n",
       "      <th>userId</th>\n",
       "      <th>MovieIdCount</th>\n",
       "    </tr>\n",
       "  </thead>\n",
       "  <tbody>\n",
       "    <tr>\n",
       "      <th>0</th>\n",
       "      <td>1</td>\n",
       "      <td>232</td>\n",
       "    </tr>\n",
       "    <tr>\n",
       "      <th>1</th>\n",
       "      <td>2</td>\n",
       "      <td>29</td>\n",
       "    </tr>\n",
       "    <tr>\n",
       "      <th>2</th>\n",
       "      <td>3</td>\n",
       "      <td>39</td>\n",
       "    </tr>\n",
       "    <tr>\n",
       "      <th>3</th>\n",
       "      <td>4</td>\n",
       "      <td>216</td>\n",
       "    </tr>\n",
       "    <tr>\n",
       "      <th>4</th>\n",
       "      <td>5</td>\n",
       "      <td>44</td>\n",
       "    </tr>\n",
       "    <tr>\n",
       "      <th>...</th>\n",
       "      <td>...</td>\n",
       "      <td>...</td>\n",
       "    </tr>\n",
       "    <tr>\n",
       "      <th>605</th>\n",
       "      <td>606</td>\n",
       "      <td>1115</td>\n",
       "    </tr>\n",
       "    <tr>\n",
       "      <th>606</th>\n",
       "      <td>607</td>\n",
       "      <td>187</td>\n",
       "    </tr>\n",
       "    <tr>\n",
       "      <th>607</th>\n",
       "      <td>608</td>\n",
       "      <td>831</td>\n",
       "    </tr>\n",
       "    <tr>\n",
       "      <th>608</th>\n",
       "      <td>609</td>\n",
       "      <td>37</td>\n",
       "    </tr>\n",
       "    <tr>\n",
       "      <th>609</th>\n",
       "      <td>610</td>\n",
       "      <td>1302</td>\n",
       "    </tr>\n",
       "  </tbody>\n",
       "</table>\n",
       "<p>610 rows × 2 columns</p>\n",
       "</div>"
      ],
      "text/plain": [
       "     userId  MovieIdCount\n",
       "0         1           232\n",
       "1         2            29\n",
       "2         3            39\n",
       "3         4           216\n",
       "4         5            44\n",
       "..      ...           ...\n",
       "605     606          1115\n",
       "606     607           187\n",
       "607     608           831\n",
       "608     609            37\n",
       "609     610          1302\n",
       "\n",
       "[610 rows x 2 columns]"
      ]
     },
     "execution_count": 5,
     "metadata": {},
     "output_type": "execute_result"
    }
   ],
   "source": [
    "movies_count_per_user = ratings.groupby('userId')['movieId'].count().reset_index(name='MovieIdCount')\n",
    "movies_count_per_user "
   ]
  },
  {
   "cell_type": "code",
   "execution_count": 6,
   "id": "d074e1e2",
   "metadata": {},
   "outputs": [
    {
     "data": {
      "text/html": [
       "<div>\n",
       "<style scoped>\n",
       "    .dataframe tbody tr th:only-of-type {\n",
       "        vertical-align: middle;\n",
       "    }\n",
       "\n",
       "    .dataframe tbody tr th {\n",
       "        vertical-align: top;\n",
       "    }\n",
       "\n",
       "    .dataframe thead th {\n",
       "        text-align: right;\n",
       "    }\n",
       "</style>\n",
       "<table border=\"1\" class=\"dataframe\">\n",
       "  <thead>\n",
       "    <tr style=\"text-align: right;\">\n",
       "      <th></th>\n",
       "      <th>userId</th>\n",
       "      <th>MovieIdCount</th>\n",
       "    </tr>\n",
       "  </thead>\n",
       "  <tbody>\n",
       "    <tr>\n",
       "      <th>1</th>\n",
       "      <td>2</td>\n",
       "      <td>29</td>\n",
       "    </tr>\n",
       "  </tbody>\n",
       "</table>\n",
       "</div>"
      ],
      "text/plain": [
       "   userId  MovieIdCount\n",
       "1       2            29"
      ]
     },
     "metadata": {},
     "output_type": "display_data"
    }
   ],
   "source": [
    "display(movies_count_per_user.loc[movies_count_per_user.userId == 2])"
   ]
  },
  {
   "cell_type": "markdown",
   "id": "18012a6f",
   "metadata": {},
   "source": [
    "Below is another way to filter User 2 Number of movies count."
   ]
  },
  {
   "cell_type": "code",
   "execution_count": 7,
   "id": "243d5bd3",
   "metadata": {},
   "outputs": [
    {
     "name": "stdout",
     "output_type": "stream",
     "text": [
      "userId           2\n",
      "MovieIdCount    29\n",
      "Name: 1, dtype: int64\n"
     ]
    }
   ],
   "source": [
    "print(movies_count_per_user.loc[1])"
   ]
  },
  {
   "cell_type": "markdown",
   "id": "6846c413",
   "metadata": {},
   "source": [
    "# Bar Chart of Movie Ratings"
   ]
  },
  {
   "cell_type": "markdown",
   "id": "e5455062",
   "metadata": {},
   "source": [
    "## Bar Chart - User 2 Movie Ratings"
   ]
  },
  {
   "cell_type": "code",
   "execution_count": 8,
   "id": "2dbc2318",
   "metadata": {},
   "outputs": [
    {
     "data": {
      "text/html": [
       "<div>\n",
       "<style scoped>\n",
       "    .dataframe tbody tr th:only-of-type {\n",
       "        vertical-align: middle;\n",
       "    }\n",
       "\n",
       "    .dataframe tbody tr th {\n",
       "        vertical-align: top;\n",
       "    }\n",
       "\n",
       "    .dataframe thead th {\n",
       "        text-align: right;\n",
       "    }\n",
       "</style>\n",
       "<table border=\"1\" class=\"dataframe\">\n",
       "  <thead>\n",
       "    <tr style=\"text-align: right;\">\n",
       "      <th></th>\n",
       "      <th>userId</th>\n",
       "      <th>movieId</th>\n",
       "      <th>rating</th>\n",
       "      <th>timestamp</th>\n",
       "    </tr>\n",
       "  </thead>\n",
       "  <tbody>\n",
       "    <tr>\n",
       "      <th>232</th>\n",
       "      <td>2</td>\n",
       "      <td>318</td>\n",
       "      <td>3.0</td>\n",
       "      <td>1445714835</td>\n",
       "    </tr>\n",
       "    <tr>\n",
       "      <th>233</th>\n",
       "      <td>2</td>\n",
       "      <td>333</td>\n",
       "      <td>4.0</td>\n",
       "      <td>1445715029</td>\n",
       "    </tr>\n",
       "    <tr>\n",
       "      <th>234</th>\n",
       "      <td>2</td>\n",
       "      <td>1704</td>\n",
       "      <td>4.5</td>\n",
       "      <td>1445715228</td>\n",
       "    </tr>\n",
       "    <tr>\n",
       "      <th>235</th>\n",
       "      <td>2</td>\n",
       "      <td>3578</td>\n",
       "      <td>4.0</td>\n",
       "      <td>1445714885</td>\n",
       "    </tr>\n",
       "    <tr>\n",
       "      <th>236</th>\n",
       "      <td>2</td>\n",
       "      <td>6874</td>\n",
       "      <td>4.0</td>\n",
       "      <td>1445714952</td>\n",
       "    </tr>\n",
       "  </tbody>\n",
       "</table>\n",
       "</div>"
      ],
      "text/plain": [
       "     userId  movieId  rating   timestamp\n",
       "232       2      318     3.0  1445714835\n",
       "233       2      333     4.0  1445715029\n",
       "234       2     1704     4.5  1445715228\n",
       "235       2     3578     4.0  1445714885\n",
       "236       2     6874     4.0  1445714952"
      ]
     },
     "execution_count": 8,
     "metadata": {},
     "output_type": "execute_result"
    }
   ],
   "source": [
    "user_2_rating = ratings[ratings['userId'] == 2]\n",
    "user_2_rating.head()"
   ]
  },
  {
   "cell_type": "code",
   "execution_count": 9,
   "id": "97ef6868",
   "metadata": {},
   "outputs": [
    {
     "data": {
      "text/plain": [
       "Text(0, 0.5, 'counts')"
      ]
     },
     "execution_count": 9,
     "metadata": {},
     "output_type": "execute_result"
    },
    {
     "data": {
      "image/png": "[encoded data removed]",
      "text/plain": [
       "<Figure size 432x288 with 1 Axes>"
      ]
     },
     "metadata": {
      "needs_background": "light"
     },
     "output_type": "display_data"
    }
   ],
   "source": [
    "user_2_rating['rating'].value_counts().sort_index().plot.bar()\n",
    "plt.xlabel('rating')\n",
    "plt.ylabel('counts')"
   ]
  },
  {
   "cell_type": "markdown",
   "id": "15308498",
   "metadata": {},
   "source": [
    "## Bar Chart - All Users Movie Ratings"
   ]
  },
  {
   "cell_type": "code",
   "execution_count": 10,
   "id": "742a1009",
   "metadata": {},
   "outputs": [
    {
     "data": {
      "text/plain": [
       "Text(0, 0.5, 'counts')"
      ]
     },
     "execution_count": 10,
     "metadata": {},
     "output_type": "execute_result"
    },
    {
     "data": {
      "image/png": "[encoded data removed]",
      "text/plain": [
       "<Figure size 432x288 with 1 Axes>"
      ]
     },
     "metadata": {
      "needs_background": "light"
     },
     "output_type": "display_data"
    }
   ],
   "source": [
    "ratings['rating'].value_counts().sort_index().plot.bar()\n",
    "plt.xlabel('rating')\n",
    "plt.ylabel('counts')"
   ]
  },
  {
   "cell_type": "markdown",
   "id": "0d3d2e5b",
   "metadata": {},
   "source": [
    "# User 2's Top Movies"
   ]
  },
  {
   "cell_type": "code",
   "execution_count": 11,
   "id": "64f05114",
   "metadata": {},
   "outputs": [
    {
     "data": {
      "text/html": [
       "<div>\n",
       "<style scoped>\n",
       "    .dataframe tbody tr th:only-of-type {\n",
       "        vertical-align: middle;\n",
       "    }\n",
       "\n",
       "    .dataframe tbody tr th {\n",
       "        vertical-align: top;\n",
       "    }\n",
       "\n",
       "    .dataframe thead th {\n",
       "        text-align: right;\n",
       "    }\n",
       "</style>\n",
       "<table border=\"1\" class=\"dataframe\">\n",
       "  <thead>\n",
       "    <tr style=\"text-align: right;\">\n",
       "      <th></th>\n",
       "      <th>userId</th>\n",
       "      <th>movieId</th>\n",
       "      <th>rating</th>\n",
       "      <th>timestamp</th>\n",
       "      <th>title</th>\n",
       "      <th>genres</th>\n",
       "    </tr>\n",
       "  </thead>\n",
       "  <tbody>\n",
       "    <tr>\n",
       "      <th>28</th>\n",
       "      <td>2</td>\n",
       "      <td>131724</td>\n",
       "      <td>5.0</td>\n",
       "      <td>1445714851</td>\n",
       "      <td>The Jinx: The Life and Deaths of Robert Durst ...</td>\n",
       "      <td>Documentary</td>\n",
       "    </tr>\n",
       "    <tr>\n",
       "      <th>27</th>\n",
       "      <td>2</td>\n",
       "      <td>122882</td>\n",
       "      <td>5.0</td>\n",
       "      <td>1445715272</td>\n",
       "      <td>Mad Max: Fury Road (2015)</td>\n",
       "      <td>Action|Adventure|Sci-Fi|Thriller</td>\n",
       "    </tr>\n",
       "    <tr>\n",
       "      <th>22</th>\n",
       "      <td>2</td>\n",
       "      <td>106782</td>\n",
       "      <td>5.0</td>\n",
       "      <td>1445714966</td>\n",
       "      <td>Wolf of Wall Street, The (2013)</td>\n",
       "      <td>Comedy|Crime|Drama</td>\n",
       "    </tr>\n",
       "    <tr>\n",
       "      <th>18</th>\n",
       "      <td>2</td>\n",
       "      <td>89774</td>\n",
       "      <td>5.0</td>\n",
       "      <td>1445715189</td>\n",
       "      <td>Warrior (2011)</td>\n",
       "      <td>Drama</td>\n",
       "    </tr>\n",
       "    <tr>\n",
       "      <th>9</th>\n",
       "      <td>2</td>\n",
       "      <td>60756</td>\n",
       "      <td>5.0</td>\n",
       "      <td>1445714980</td>\n",
       "      <td>Step Brothers (2008)</td>\n",
       "      <td>Comedy</td>\n",
       "    </tr>\n",
       "  </tbody>\n",
       "</table>\n",
       "</div>"
      ],
      "text/plain": [
       "    userId  movieId  rating   timestamp  \\\n",
       "28       2   131724     5.0  1445714851   \n",
       "27       2   122882     5.0  1445715272   \n",
       "22       2   106782     5.0  1445714966   \n",
       "18       2    89774     5.0  1445715189   \n",
       "9        2    60756     5.0  1445714980   \n",
       "\n",
       "                                                title  \\\n",
       "28  The Jinx: The Life and Deaths of Robert Durst ...   \n",
       "27                          Mad Max: Fury Road (2015)   \n",
       "22                    Wolf of Wall Street, The (2013)   \n",
       "18                                     Warrior (2011)   \n",
       "9                                Step Brothers (2008)   \n",
       "\n",
       "                              genres  \n",
       "28                       Documentary  \n",
       "27  Action|Adventure|Sci-Fi|Thriller  \n",
       "22                Comedy|Crime|Drama  \n",
       "18                             Drama  \n",
       "9                             Comedy  "
      ]
     },
     "execution_count": 11,
     "metadata": {},
     "output_type": "execute_result"
    }
   ],
   "source": [
    "user2_top_movies = pd.merge(user_2_rating, movies, on='movieId')\n",
    "user2_top_movies.sort_values(by='rating', ascending=False).head()"
   ]
  },
  {
   "cell_type": "markdown",
   "id": "2bc46e19",
   "metadata": {},
   "source": [
    "# Collaborative Filtering Recommender"
   ]
  },
  {
   "cell_type": "markdown",
   "id": "0ff1d393",
   "metadata": {},
   "source": [
    "Transforming ratings DataFrame to \"Wide\" format for calculating similarities between users."
   ]
  },
  {
   "cell_type": "code",
   "execution_count": 12,
   "id": "7cfbc323",
   "metadata": {},
   "outputs": [
    {
     "data": {
      "text/html": [
       "<div>\n",
       "<style scoped>\n",
       "    .dataframe tbody tr th:only-of-type {\n",
       "        vertical-align: middle;\n",
       "    }\n",
       "\n",
       "    .dataframe tbody tr th {\n",
       "        vertical-align: top;\n",
       "    }\n",
       "\n",
       "    .dataframe thead th {\n",
       "        text-align: right;\n",
       "    }\n",
       "</style>\n",
       "<table border=\"1\" class=\"dataframe\">\n",
       "  <thead>\n",
       "    <tr style=\"text-align: right;\">\n",
       "      <th>movieId</th>\n",
       "      <th>1</th>\n",
       "      <th>2</th>\n",
       "      <th>3</th>\n",
       "      <th>4</th>\n",
       "      <th>5</th>\n",
       "      <th>6</th>\n",
       "      <th>7</th>\n",
       "      <th>8</th>\n",
       "      <th>9</th>\n",
       "      <th>10</th>\n",
       "      <th>...</th>\n",
       "      <th>193565</th>\n",
       "      <th>193567</th>\n",
       "      <th>193571</th>\n",
       "      <th>193573</th>\n",
       "      <th>193579</th>\n",
       "      <th>193581</th>\n",
       "      <th>193583</th>\n",
       "      <th>193585</th>\n",
       "      <th>193587</th>\n",
       "      <th>193609</th>\n",
       "    </tr>\n",
       "    <tr>\n",
       "      <th>userId</th>\n",
       "      <th></th>\n",
       "      <th></th>\n",
       "      <th></th>\n",
       "      <th></th>\n",
       "      <th></th>\n",
       "      <th></th>\n",
       "      <th></th>\n",
       "      <th></th>\n",
       "      <th></th>\n",
       "      <th></th>\n",
       "      <th></th>\n",
       "      <th></th>\n",
       "      <th></th>\n",
       "      <th></th>\n",
       "      <th></th>\n",
       "      <th></th>\n",
       "      <th></th>\n",
       "      <th></th>\n",
       "      <th></th>\n",
       "      <th></th>\n",
       "      <th></th>\n",
       "    </tr>\n",
       "  </thead>\n",
       "  <tbody>\n",
       "    <tr>\n",
       "      <th>1</th>\n",
       "      <td>4.0</td>\n",
       "      <td>NaN</td>\n",
       "      <td>4.0</td>\n",
       "      <td>NaN</td>\n",
       "      <td>NaN</td>\n",
       "      <td>4.0</td>\n",
       "      <td>NaN</td>\n",
       "      <td>NaN</td>\n",
       "      <td>NaN</td>\n",
       "      <td>NaN</td>\n",
       "      <td>...</td>\n",
       "      <td>NaN</td>\n",
       "      <td>NaN</td>\n",
       "      <td>NaN</td>\n",
       "      <td>NaN</td>\n",
       "      <td>NaN</td>\n",
       "      <td>NaN</td>\n",
       "      <td>NaN</td>\n",
       "      <td>NaN</td>\n",
       "      <td>NaN</td>\n",
       "      <td>NaN</td>\n",
       "    </tr>\n",
       "    <tr>\n",
       "      <th>2</th>\n",
       "      <td>NaN</td>\n",
       "      <td>NaN</td>\n",
       "      <td>NaN</td>\n",
       "      <td>NaN</td>\n",
       "      <td>NaN</td>\n",
       "      <td>NaN</td>\n",
       "      <td>NaN</td>\n",
       "      <td>NaN</td>\n",
       "      <td>NaN</td>\n",
       "      <td>NaN</td>\n",
       "      <td>...</td>\n",
       "      <td>NaN</td>\n",
       "      <td>NaN</td>\n",
       "      <td>NaN</td>\n",
       "      <td>NaN</td>\n",
       "      <td>NaN</td>\n",
       "      <td>NaN</td>\n",
       "      <td>NaN</td>\n",
       "      <td>NaN</td>\n",
       "      <td>NaN</td>\n",
       "      <td>NaN</td>\n",
       "    </tr>\n",
       "    <tr>\n",
       "      <th>3</th>\n",
       "      <td>NaN</td>\n",
       "      <td>NaN</td>\n",
       "      <td>NaN</td>\n",
       "      <td>NaN</td>\n",
       "      <td>NaN</td>\n",
       "      <td>NaN</td>\n",
       "      <td>NaN</td>\n",
       "      <td>NaN</td>\n",
       "      <td>NaN</td>\n",
       "      <td>NaN</td>\n",
       "      <td>...</td>\n",
       "      <td>NaN</td>\n",
       "      <td>NaN</td>\n",
       "      <td>NaN</td>\n",
       "      <td>NaN</td>\n",
       "      <td>NaN</td>\n",
       "      <td>NaN</td>\n",
       "      <td>NaN</td>\n",
       "      <td>NaN</td>\n",
       "      <td>NaN</td>\n",
       "      <td>NaN</td>\n",
       "    </tr>\n",
       "    <tr>\n",
       "      <th>4</th>\n",
       "      <td>NaN</td>\n",
       "      <td>NaN</td>\n",
       "      <td>NaN</td>\n",
       "      <td>NaN</td>\n",
       "      <td>NaN</td>\n",
       "      <td>NaN</td>\n",
       "      <td>NaN</td>\n",
       "      <td>NaN</td>\n",
       "      <td>NaN</td>\n",
       "      <td>NaN</td>\n",
       "      <td>...</td>\n",
       "      <td>NaN</td>\n",
       "      <td>NaN</td>\n",
       "      <td>NaN</td>\n",
       "      <td>NaN</td>\n",
       "      <td>NaN</td>\n",
       "      <td>NaN</td>\n",
       "      <td>NaN</td>\n",
       "      <td>NaN</td>\n",
       "      <td>NaN</td>\n",
       "      <td>NaN</td>\n",
       "    </tr>\n",
       "    <tr>\n",
       "      <th>5</th>\n",
       "      <td>4.0</td>\n",
       "      <td>NaN</td>\n",
       "      <td>NaN</td>\n",
       "      <td>NaN</td>\n",
       "      <td>NaN</td>\n",
       "      <td>NaN</td>\n",
       "      <td>NaN</td>\n",
       "      <td>NaN</td>\n",
       "      <td>NaN</td>\n",
       "      <td>NaN</td>\n",
       "      <td>...</td>\n",
       "      <td>NaN</td>\n",
       "      <td>NaN</td>\n",
       "      <td>NaN</td>\n",
       "      <td>NaN</td>\n",
       "      <td>NaN</td>\n",
       "      <td>NaN</td>\n",
       "      <td>NaN</td>\n",
       "      <td>NaN</td>\n",
       "      <td>NaN</td>\n",
       "      <td>NaN</td>\n",
       "    </tr>\n",
       "  </tbody>\n",
       "</table>\n",
       "<p>5 rows × 9724 columns</p>\n",
       "</div>"
      ],
      "text/plain": [
       "movieId  1       2       3       4       5       6       7       8       \\\n",
       "userId                                                                    \n",
       "1           4.0     NaN     4.0     NaN     NaN     4.0     NaN     NaN   \n",
       "2           NaN     NaN     NaN     NaN     NaN     NaN     NaN     NaN   \n",
       "3           NaN     NaN     NaN     NaN     NaN     NaN     NaN     NaN   \n",
       "4           NaN     NaN     NaN     NaN     NaN     NaN     NaN     NaN   \n",
       "5           4.0     NaN     NaN     NaN     NaN     NaN     NaN     NaN   \n",
       "\n",
       "movieId  9       10      ...  193565  193567  193571  193573  193579  193581  \\\n",
       "userId                   ...                                                   \n",
       "1           NaN     NaN  ...     NaN     NaN     NaN     NaN     NaN     NaN   \n",
       "2           NaN     NaN  ...     NaN     NaN     NaN     NaN     NaN     NaN   \n",
       "3           NaN     NaN  ...     NaN     NaN     NaN     NaN     NaN     NaN   \n",
       "4           NaN     NaN  ...     NaN     NaN     NaN     NaN     NaN     NaN   \n",
       "5           NaN     NaN  ...     NaN     NaN     NaN     NaN     NaN     NaN   \n",
       "\n",
       "movieId  193583  193585  193587  193609  \n",
       "userId                                   \n",
       "1           NaN     NaN     NaN     NaN  \n",
       "2           NaN     NaN     NaN     NaN  \n",
       "3           NaN     NaN     NaN     NaN  \n",
       "4           NaN     NaN     NaN     NaN  \n",
       "5           NaN     NaN     NaN     NaN  \n",
       "\n",
       "[5 rows x 9724 columns]"
      ]
     },
     "execution_count": 12,
     "metadata": {},
     "output_type": "execute_result"
    }
   ],
   "source": [
    "wide = ratings.pivot(index='userId', columns='movieId', values='rating')\n",
    "wide.head()"
   ]
  },
  {
   "cell_type": "markdown",
   "id": "e742dca4",
   "metadata": {},
   "source": [
    "## Pearson Correlation"
   ]
  },
  {
   "cell_type": "code",
   "execution_count": 13,
   "id": "2a23ff00",
   "metadata": {},
   "outputs": [],
   "source": [
    "cor = wide.T.corr()"
   ]
  },
  {
   "cell_type": "code",
   "execution_count": 14,
   "id": "3dc488bf",
   "metadata": {},
   "outputs": [
    {
     "data": {
      "text/html": [
       "<div>\n",
       "<style scoped>\n",
       "    .dataframe tbody tr th:only-of-type {\n",
       "        vertical-align: middle;\n",
       "    }\n",
       "\n",
       "    .dataframe tbody tr th {\n",
       "        vertical-align: top;\n",
       "    }\n",
       "\n",
       "    .dataframe thead th {\n",
       "        text-align: right;\n",
       "    }\n",
       "</style>\n",
       "<table border=\"1\" class=\"dataframe\">\n",
       "  <thead>\n",
       "    <tr style=\"text-align: right;\">\n",
       "      <th>userId</th>\n",
       "      <th>1</th>\n",
       "      <th>2</th>\n",
       "      <th>3</th>\n",
       "      <th>4</th>\n",
       "      <th>5</th>\n",
       "      <th>6</th>\n",
       "      <th>7</th>\n",
       "      <th>8</th>\n",
       "      <th>9</th>\n",
       "      <th>10</th>\n",
       "      <th>...</th>\n",
       "      <th>601</th>\n",
       "      <th>602</th>\n",
       "      <th>603</th>\n",
       "      <th>604</th>\n",
       "      <th>605</th>\n",
       "      <th>606</th>\n",
       "      <th>607</th>\n",
       "      <th>608</th>\n",
       "      <th>609</th>\n",
       "      <th>610</th>\n",
       "    </tr>\n",
       "    <tr>\n",
       "      <th>userId</th>\n",
       "      <th></th>\n",
       "      <th></th>\n",
       "      <th></th>\n",
       "      <th></th>\n",
       "      <th></th>\n",
       "      <th></th>\n",
       "      <th></th>\n",
       "      <th></th>\n",
       "      <th></th>\n",
       "      <th></th>\n",
       "      <th></th>\n",
       "      <th></th>\n",
       "      <th></th>\n",
       "      <th></th>\n",
       "      <th></th>\n",
       "      <th></th>\n",
       "      <th></th>\n",
       "      <th></th>\n",
       "      <th></th>\n",
       "      <th></th>\n",
       "      <th></th>\n",
       "    </tr>\n",
       "  </thead>\n",
       "  <tbody>\n",
       "    <tr>\n",
       "      <th>1</th>\n",
       "      <td>1.000000</td>\n",
       "      <td>NaN</td>\n",
       "      <td>0.079819</td>\n",
       "      <td>0.207983</td>\n",
       "      <td>0.268749</td>\n",
       "      <td>-0.291636</td>\n",
       "      <td>-0.118773</td>\n",
       "      <td>0.469668</td>\n",
       "      <td>0.918559</td>\n",
       "      <td>-0.037987</td>\n",
       "      <td>...</td>\n",
       "      <td>9.157371e-02</td>\n",
       "      <td>-1.597727e-16</td>\n",
       "      <td>-0.061503</td>\n",
       "      <td>-0.407556</td>\n",
       "      <td>-0.164871</td>\n",
       "      <td>0.066378</td>\n",
       "      <td>0.174557</td>\n",
       "      <td>0.268070</td>\n",
       "      <td>-0.175412</td>\n",
       "      <td>-0.032086</td>\n",
       "    </tr>\n",
       "    <tr>\n",
       "      <th>2</th>\n",
       "      <td>NaN</td>\n",
       "      <td>1.0</td>\n",
       "      <td>NaN</td>\n",
       "      <td>NaN</td>\n",
       "      <td>NaN</td>\n",
       "      <td>NaN</td>\n",
       "      <td>-0.991241</td>\n",
       "      <td>NaN</td>\n",
       "      <td>NaN</td>\n",
       "      <td>0.037796</td>\n",
       "      <td>...</td>\n",
       "      <td>-3.873468e-01</td>\n",
       "      <td>NaN</td>\n",
       "      <td>-1.000000</td>\n",
       "      <td>NaN</td>\n",
       "      <td>NaN</td>\n",
       "      <td>0.583333</td>\n",
       "      <td>NaN</td>\n",
       "      <td>-0.125000</td>\n",
       "      <td>NaN</td>\n",
       "      <td>0.623288</td>\n",
       "    </tr>\n",
       "    <tr>\n",
       "      <th>3</th>\n",
       "      <td>0.079819</td>\n",
       "      <td>NaN</td>\n",
       "      <td>1.000000</td>\n",
       "      <td>NaN</td>\n",
       "      <td>NaN</td>\n",
       "      <td>NaN</td>\n",
       "      <td>NaN</td>\n",
       "      <td>NaN</td>\n",
       "      <td>NaN</td>\n",
       "      <td>NaN</td>\n",
       "      <td>...</td>\n",
       "      <td>NaN</td>\n",
       "      <td>NaN</td>\n",
       "      <td>0.433200</td>\n",
       "      <td>NaN</td>\n",
       "      <td>NaN</td>\n",
       "      <td>-0.791334</td>\n",
       "      <td>-0.333333</td>\n",
       "      <td>-0.395092</td>\n",
       "      <td>NaN</td>\n",
       "      <td>0.569562</td>\n",
       "    </tr>\n",
       "    <tr>\n",
       "      <th>4</th>\n",
       "      <td>0.207983</td>\n",
       "      <td>NaN</td>\n",
       "      <td>NaN</td>\n",
       "      <td>1.000000</td>\n",
       "      <td>-0.336525</td>\n",
       "      <td>0.148498</td>\n",
       "      <td>0.542861</td>\n",
       "      <td>0.117851</td>\n",
       "      <td>NaN</td>\n",
       "      <td>0.485794</td>\n",
       "      <td>...</td>\n",
       "      <td>-2.221127e-01</td>\n",
       "      <td>3.966413e-01</td>\n",
       "      <td>0.090090</td>\n",
       "      <td>-0.080296</td>\n",
       "      <td>0.400124</td>\n",
       "      <td>0.144603</td>\n",
       "      <td>0.116518</td>\n",
       "      <td>-0.170501</td>\n",
       "      <td>-0.277350</td>\n",
       "      <td>-0.043786</td>\n",
       "    </tr>\n",
       "    <tr>\n",
       "      <th>5</th>\n",
       "      <td>0.268749</td>\n",
       "      <td>NaN</td>\n",
       "      <td>NaN</td>\n",
       "      <td>-0.336525</td>\n",
       "      <td>1.000000</td>\n",
       "      <td>0.043166</td>\n",
       "      <td>0.158114</td>\n",
       "      <td>0.028347</td>\n",
       "      <td>NaN</td>\n",
       "      <td>-0.777714</td>\n",
       "      <td>...</td>\n",
       "      <td>2.719480e-16</td>\n",
       "      <td>1.533034e-01</td>\n",
       "      <td>0.234743</td>\n",
       "      <td>0.067791</td>\n",
       "      <td>-0.364156</td>\n",
       "      <td>0.244321</td>\n",
       "      <td>0.231080</td>\n",
       "      <td>-0.020546</td>\n",
       "      <td>0.384111</td>\n",
       "      <td>0.040582</td>\n",
       "    </tr>\n",
       "  </tbody>\n",
       "</table>\n",
       "<p>5 rows × 610 columns</p>\n",
       "</div>"
      ],
      "text/plain": [
       "userId       1    2         3         4         5         6         7    \\\n",
       "userId                                                                    \n",
       "1       1.000000  NaN  0.079819  0.207983  0.268749 -0.291636 -0.118773   \n",
       "2            NaN  1.0       NaN       NaN       NaN       NaN -0.991241   \n",
       "3       0.079819  NaN  1.000000       NaN       NaN       NaN       NaN   \n",
       "4       0.207983  NaN       NaN  1.000000 -0.336525  0.148498  0.542861   \n",
       "5       0.268749  NaN       NaN -0.336525  1.000000  0.043166  0.158114   \n",
       "\n",
       "userId       8         9         10   ...           601           602  \\\n",
       "userId                                ...                               \n",
       "1       0.469668  0.918559 -0.037987  ...  9.157371e-02 -1.597727e-16   \n",
       "2            NaN       NaN  0.037796  ... -3.873468e-01           NaN   \n",
       "3            NaN       NaN       NaN  ...           NaN           NaN   \n",
       "4       0.117851       NaN  0.485794  ... -2.221127e-01  3.966413e-01   \n",
       "5       0.028347       NaN -0.777714  ...  2.719480e-16  1.533034e-01   \n",
       "\n",
       "userId       603       604       605       606       607       608       609  \\\n",
       "userId                                                                         \n",
       "1      -0.061503 -0.407556 -0.164871  0.066378  0.174557  0.268070 -0.175412   \n",
       "2      -1.000000       NaN       NaN  0.583333       NaN -0.125000       NaN   \n",
       "3       0.433200       NaN       NaN -0.791334 -0.333333 -0.395092       NaN   \n",
       "4       0.090090 -0.080296  0.400124  0.144603  0.116518 -0.170501 -0.277350   \n",
       "5       0.234743  0.067791 -0.364156  0.244321  0.231080 -0.020546  0.384111   \n",
       "\n",
       "userId       610  \n",
       "userId            \n",
       "1      -0.032086  \n",
       "2       0.623288  \n",
       "3       0.569562  \n",
       "4      -0.043786  \n",
       "5       0.040582  \n",
       "\n",
       "[5 rows x 610 columns]"
      ]
     },
     "execution_count": 14,
     "metadata": {},
     "output_type": "execute_result"
    }
   ],
   "source": [
    "cor.head()"
   ]
  },
  {
   "cell_type": "code",
   "execution_count": 15,
   "id": "1aee7b4d",
   "metadata": {},
   "outputs": [
    {
     "data": {
      "text/plain": [
       "userId\n",
       "2      1.0\n",
       "341    1.0\n",
       "93     1.0\n",
       "143    1.0\n",
       "148    1.0\n",
       "      ... \n",
       "602    NaN\n",
       "604    NaN\n",
       "605    NaN\n",
       "607    NaN\n",
       "609    NaN\n",
       "Name: 2, Length: 610, dtype: float64"
      ]
     },
     "execution_count": 15,
     "metadata": {},
     "output_type": "execute_result"
    }
   ],
   "source": [
    "cor.loc[2].sort_values(ascending=False)"
   ]
  },
  {
   "cell_type": "code",
   "execution_count": 16,
   "id": "29c2a0fc",
   "metadata": {},
   "outputs": [
    {
     "data": {
      "text/plain": [
       "False"
      ]
     },
     "execution_count": 16,
     "metadata": {},
     "output_type": "execute_result"
    }
   ],
   "source": [
    "wide.loc[2].notna().equals(wide.loc[341].notna())"
   ]
  },
  {
   "cell_type": "markdown",
   "id": "6309f328",
   "metadata": {},
   "source": [
    "### Pearson Correlation- Recommending Movies to User 2 based on Top Movies rated by User 341"
   ]
  },
  {
   "cell_type": "code",
   "execution_count": 17,
   "id": "93e6d865",
   "metadata": {},
   "outputs": [
    {
     "name": "stdout",
     "output_type": "stream",
     "text": [
      "movieId\n",
      "1       NaN\n",
      "59900   NaN\n",
      "Name: 2, dtype: float64\n",
      "movieId\n",
      "1        5.0\n",
      "59900    5.0\n",
      "Name: 341, dtype: float64\n"
     ]
    }
   ],
   "source": [
    "rated_5_by_341_not_watched_by_2 = (wide.loc[341] == 5) & (wide.loc[2].isna())\n",
    "print(wide.loc[2][rated_5_by_341_not_watched_by_2])\n",
    "print(wide.loc[341][rated_5_by_341_not_watched_by_2])"
   ]
  },
  {
   "cell_type": "markdown",
   "id": "7adbc4a8",
   "metadata": {},
   "source": [
    "## Euclidean Distance"
   ]
  },
  {
   "cell_type": "code",
   "execution_count": 18,
   "id": "49308ff9",
   "metadata": {},
   "outputs": [],
   "source": [
    "wide.fillna(-1, inplace=True)"
   ]
  },
  {
   "cell_type": "code",
   "execution_count": 19,
   "id": "5925667a",
   "metadata": {},
   "outputs": [],
   "source": [
    "def euclidean_distance(vector1, vector2):\n",
    "    return np.sqrt(np.sum((vector1 - vector2) ** 2))\n",
    "\n",
    "def euclidean_distance(vector1, vector2):\n",
    "    return np.linalg.norm(vector1 - vector2)\n",
    "    \n",
    "from scipy.spatial.distance import euclidean"
   ]
  },
  {
   "cell_type": "code",
   "execution_count": 20,
   "id": "33064e33",
   "metadata": {},
   "outputs": [
    {
     "data": {
      "text/plain": [
       "41.212862069989754"
      ]
     },
     "execution_count": 20,
     "metadata": {},
     "output_type": "execute_result"
    }
   ],
   "source": [
    "euclidean(wide.iloc[2], wide.iloc[341])"
   ]
  },
  {
   "cell_type": "code",
   "execution_count": 21,
   "id": "a0667f51",
   "metadata": {},
   "outputs": [],
   "source": [
    "from scipy.spatial.distance import pdist, squareform"
   ]
  },
  {
   "cell_type": "code",
   "execution_count": 22,
   "id": "d64526aa",
   "metadata": {},
   "outputs": [],
   "source": [
    "euclidean_distances = squareform(pdist(wide, metric=euclidean))"
   ]
  },
  {
   "cell_type": "code",
   "execution_count": 23,
   "id": "91549d88",
   "metadata": {},
   "outputs": [],
   "source": [
    "euclidean_df = pd.DataFrame(data=euclidean_distances, columns=wide.index, index=wide.index)"
   ]
  },
  {
   "cell_type": "code",
   "execution_count": 24,
   "id": "0eb15a62",
   "metadata": {},
   "outputs": [
    {
     "data": {
      "text/html": [
       "<div>\n",
       "<style scoped>\n",
       "    .dataframe tbody tr th:only-of-type {\n",
       "        vertical-align: middle;\n",
       "    }\n",
       "\n",
       "    .dataframe tbody tr th {\n",
       "        vertical-align: top;\n",
       "    }\n",
       "\n",
       "    .dataframe thead th {\n",
       "        text-align: right;\n",
       "    }\n",
       "</style>\n",
       "<table border=\"1\" class=\"dataframe\">\n",
       "  <thead>\n",
       "    <tr style=\"text-align: right;\">\n",
       "      <th>userId</th>\n",
       "      <th>1</th>\n",
       "      <th>2</th>\n",
       "      <th>3</th>\n",
       "      <th>4</th>\n",
       "      <th>5</th>\n",
       "      <th>6</th>\n",
       "      <th>7</th>\n",
       "      <th>8</th>\n",
       "      <th>9</th>\n",
       "      <th>10</th>\n",
       "      <th>...</th>\n",
       "      <th>601</th>\n",
       "      <th>602</th>\n",
       "      <th>603</th>\n",
       "      <th>604</th>\n",
       "      <th>605</th>\n",
       "      <th>606</th>\n",
       "      <th>607</th>\n",
       "      <th>608</th>\n",
       "      <th>609</th>\n",
       "      <th>610</th>\n",
       "    </tr>\n",
       "    <tr>\n",
       "      <th>userId</th>\n",
       "      <th></th>\n",
       "      <th></th>\n",
       "      <th></th>\n",
       "      <th></th>\n",
       "      <th></th>\n",
       "      <th></th>\n",
       "      <th></th>\n",
       "      <th></th>\n",
       "      <th></th>\n",
       "      <th></th>\n",
       "      <th></th>\n",
       "      <th></th>\n",
       "      <th></th>\n",
       "      <th></th>\n",
       "      <th></th>\n",
       "      <th></th>\n",
       "      <th></th>\n",
       "      <th></th>\n",
       "      <th></th>\n",
       "      <th></th>\n",
       "      <th></th>\n",
       "    </tr>\n",
       "  </thead>\n",
       "  <tbody>\n",
       "    <tr>\n",
       "      <th>1</th>\n",
       "      <td>0.000000</td>\n",
       "      <td>86.239492</td>\n",
       "      <td>84.731930</td>\n",
       "      <td>96.979379</td>\n",
       "      <td>84.516271</td>\n",
       "      <td>108.083301</td>\n",
       "      <td>91.651514</td>\n",
       "      <td>84.380092</td>\n",
       "      <td>86.203248</td>\n",
       "      <td>96.969067</td>\n",
       "      <td>...</td>\n",
       "      <td>95.430603</td>\n",
       "      <td>90.288427</td>\n",
       "      <td>147.939177</td>\n",
       "      <td>91.350972</td>\n",
       "      <td>96.224997</td>\n",
       "      <td>165.230143</td>\n",
       "      <td>90.862534</td>\n",
       "      <td>126.232920</td>\n",
       "      <td>84.279298</td>\n",
       "      <td>179.904836</td>\n",
       "    </tr>\n",
       "    <tr>\n",
       "      <th>2</th>\n",
       "      <td>86.239492</td>\n",
       "      <td>0.000000</td>\n",
       "      <td>36.806929</td>\n",
       "      <td>74.567084</td>\n",
       "      <td>41.039615</td>\n",
       "      <td>84.777650</td>\n",
       "      <td>60.172668</td>\n",
       "      <td>41.318882</td>\n",
       "      <td>40.450587</td>\n",
       "      <td>57.295288</td>\n",
       "      <td>...</td>\n",
       "      <td>55.859198</td>\n",
       "      <td>58.423026</td>\n",
       "      <td>145.090489</td>\n",
       "      <td>52.822817</td>\n",
       "      <td>69.235107</td>\n",
       "      <td>158.923724</td>\n",
       "      <td>71.674612</td>\n",
       "      <td>124.893955</td>\n",
       "      <td>37.016888</td>\n",
       "      <td>171.373860</td>\n",
       "    </tr>\n",
       "    <tr>\n",
       "      <th>3</th>\n",
       "      <td>84.731930</td>\n",
       "      <td>36.806929</td>\n",
       "      <td>0.000000</td>\n",
       "      <td>73.908727</td>\n",
       "      <td>39.956226</td>\n",
       "      <td>84.584277</td>\n",
       "      <td>60.112395</td>\n",
       "      <td>40.441316</td>\n",
       "      <td>39.172695</td>\n",
       "      <td>58.150666</td>\n",
       "      <td>...</td>\n",
       "      <td>59.895743</td>\n",
       "      <td>57.701820</td>\n",
       "      <td>144.296570</td>\n",
       "      <td>51.850747</td>\n",
       "      <td>68.233057</td>\n",
       "      <td>158.848985</td>\n",
       "      <td>70.664701</td>\n",
       "      <td>124.946989</td>\n",
       "      <td>36.173194</td>\n",
       "      <td>172.971819</td>\n",
       "    </tr>\n",
       "    <tr>\n",
       "      <th>4</th>\n",
       "      <td>96.979379</td>\n",
       "      <td>74.567084</td>\n",
       "      <td>73.908727</td>\n",
       "      <td>0.000000</td>\n",
       "      <td>72.608539</td>\n",
       "      <td>101.847926</td>\n",
       "      <td>83.330667</td>\n",
       "      <td>74.639132</td>\n",
       "      <td>75.591005</td>\n",
       "      <td>85.743804</td>\n",
       "      <td>...</td>\n",
       "      <td>84.604964</td>\n",
       "      <td>81.455509</td>\n",
       "      <td>137.952891</td>\n",
       "      <td>81.018516</td>\n",
       "      <td>90.461318</td>\n",
       "      <td>158.726179</td>\n",
       "      <td>89.693924</td>\n",
       "      <td>131.524713</td>\n",
       "      <td>73.593478</td>\n",
       "      <td>178.462181</td>\n",
       "    </tr>\n",
       "    <tr>\n",
       "      <th>5</th>\n",
       "      <td>84.516271</td>\n",
       "      <td>41.039615</td>\n",
       "      <td>39.956226</td>\n",
       "      <td>72.608539</td>\n",
       "      <td>0.000000</td>\n",
       "      <td>77.479029</td>\n",
       "      <td>59.958319</td>\n",
       "      <td>33.837849</td>\n",
       "      <td>43.543082</td>\n",
       "      <td>60.274373</td>\n",
       "      <td>...</td>\n",
       "      <td>61.253571</td>\n",
       "      <td>48.383882</td>\n",
       "      <td>142.762040</td>\n",
       "      <td>47.833043</td>\n",
       "      <td>66.740168</td>\n",
       "      <td>157.171880</td>\n",
       "      <td>69.188149</td>\n",
       "      <td>122.697799</td>\n",
       "      <td>35.270384</td>\n",
       "      <td>172.935682</td>\n",
       "    </tr>\n",
       "  </tbody>\n",
       "</table>\n",
       "<p>5 rows × 610 columns</p>\n",
       "</div>"
      ],
      "text/plain": [
       "userId        1          2          3          4          5           6    \\\n",
       "userId                                                                      \n",
       "1        0.000000  86.239492  84.731930  96.979379  84.516271  108.083301   \n",
       "2       86.239492   0.000000  36.806929  74.567084  41.039615   84.777650   \n",
       "3       84.731930  36.806929   0.000000  73.908727  39.956226   84.584277   \n",
       "4       96.979379  74.567084  73.908727   0.000000  72.608539  101.847926   \n",
       "5       84.516271  41.039615  39.956226  72.608539   0.000000   77.479029   \n",
       "\n",
       "userId        7          8          9          10   ...        601        602  \\\n",
       "userId                                              ...                         \n",
       "1       91.651514  84.380092  86.203248  96.969067  ...  95.430603  90.288427   \n",
       "2       60.172668  41.318882  40.450587  57.295288  ...  55.859198  58.423026   \n",
       "3       60.112395  40.441316  39.172695  58.150666  ...  59.895743  57.701820   \n",
       "4       83.330667  74.639132  75.591005  85.743804  ...  84.604964  81.455509   \n",
       "5       59.958319  33.837849  43.543082  60.274373  ...  61.253571  48.383882   \n",
       "\n",
       "userId         603        604        605         606        607         608  \\\n",
       "userId                                                                        \n",
       "1       147.939177  91.350972  96.224997  165.230143  90.862534  126.232920   \n",
       "2       145.090489  52.822817  69.235107  158.923724  71.674612  124.893955   \n",
       "3       144.296570  51.850747  68.233057  158.848985  70.664701  124.946989   \n",
       "4       137.952891  81.018516  90.461318  158.726179  89.693924  131.524713   \n",
       "5       142.762040  47.833043  66.740168  157.171880  69.188149  122.697799   \n",
       "\n",
       "userId        609         610  \n",
       "userId                         \n",
       "1       84.279298  179.904836  \n",
       "2       37.016888  171.373860  \n",
       "3       36.173194  172.971819  \n",
       "4       73.593478  178.462181  \n",
       "5       35.270384  172.935682  \n",
       "\n",
       "[5 rows x 610 columns]"
      ]
     },
     "execution_count": 24,
     "metadata": {},
     "output_type": "execute_result"
    }
   ],
   "source": [
    "euclidean_df.head()"
   ]
  },
  {
   "cell_type": "code",
   "execution_count": 25,
   "id": "a5d6f573",
   "metadata": {},
   "outputs": [
    {
     "data": {
      "text/plain": [
       "userId\n",
       "2        0.000000\n",
       "442     29.000000\n",
       "461     30.495901\n",
       "189     30.809901\n",
       "508     31.488093\n",
       "          ...    \n",
       "448    171.200175\n",
       "610    171.373860\n",
       "599    185.184368\n",
       "474    206.630709\n",
       "414    232.408046\n",
       "Name: 2, Length: 610, dtype: float64"
      ]
     },
     "execution_count": 25,
     "metadata": {},
     "output_type": "execute_result"
    }
   ],
   "source": [
    "euclidean_df.loc[2].sort_values()"
   ]
  },
  {
   "cell_type": "markdown",
   "id": "aac0a420",
   "metadata": {},
   "source": [
    "`User 341` which was next similar user to `User 2` using Pearson Correlation is not the closest user using Euclidean Distance."
   ]
  },
  {
   "cell_type": "code",
   "execution_count": 26,
   "id": "38162dd2",
   "metadata": {},
   "outputs": [
    {
     "data": {
      "text/plain": [
       "42.91852746774987"
      ]
     },
     "execution_count": 26,
     "metadata": {},
     "output_type": "execute_result"
    }
   ],
   "source": [
    "euclidean_df.loc[2].sort_values().loc[341]"
   ]
  },
  {
   "cell_type": "markdown",
   "id": "ea3e1545",
   "metadata": {},
   "source": [
    "Checking Top Movie ratings given by `User 442` for recommending movies to `User 2`"
   ]
  },
  {
   "cell_type": "code",
   "execution_count": 27,
   "id": "c3d3e7f8",
   "metadata": {},
   "outputs": [
    {
     "name": "stdout",
     "output_type": "stream",
     "text": [
      "2.5\n",
      "320\n"
     ]
    }
   ],
   "source": [
    "#  Getting Top Rating Given by User 442 and Index of it.\n",
    "print(wide.loc[442].max())\n",
    "print(wide.loc[442].argmax())"
   ]
  },
  {
   "cell_type": "code",
   "execution_count": 28,
   "id": "b7f827af",
   "metadata": {},
   "outputs": [
    {
     "data": {
      "text/html": [
       "<div>\n",
       "<style scoped>\n",
       "    .dataframe tbody tr th:only-of-type {\n",
       "        vertical-align: middle;\n",
       "    }\n",
       "\n",
       "    .dataframe tbody tr th {\n",
       "        vertical-align: top;\n",
       "    }\n",
       "\n",
       "    .dataframe thead th {\n",
       "        text-align: right;\n",
       "    }\n",
       "</style>\n",
       "<table border=\"1\" class=\"dataframe\">\n",
       "  <thead>\n",
       "    <tr style=\"text-align: right;\">\n",
       "      <th></th>\n",
       "      <th>userId</th>\n",
       "      <th>movieId</th>\n",
       "      <th>rating</th>\n",
       "      <th>timestamp</th>\n",
       "      <th>title</th>\n",
       "      <th>genres</th>\n",
       "    </tr>\n",
       "  </thead>\n",
       "  <tbody>\n",
       "    <tr>\n",
       "      <th>0</th>\n",
       "      <td>442</td>\n",
       "      <td>362</td>\n",
       "      <td>2.5</td>\n",
       "      <td>1331560498</td>\n",
       "      <td>Jungle Book, The (1994)</td>\n",
       "      <td>Adventure|Children|Romance</td>\n",
       "    </tr>\n",
       "    <tr>\n",
       "      <th>19</th>\n",
       "      <td>442</td>\n",
       "      <td>4361</td>\n",
       "      <td>2.5</td>\n",
       "      <td>1331560492</td>\n",
       "      <td>Tootsie (1982)</td>\n",
       "      <td>Comedy|Romance</td>\n",
       "    </tr>\n",
       "    <tr>\n",
       "      <th>2</th>\n",
       "      <td>442</td>\n",
       "      <td>524</td>\n",
       "      <td>2.0</td>\n",
       "      <td>1331560506</td>\n",
       "      <td>Rudy (1993)</td>\n",
       "      <td>Drama</td>\n",
       "    </tr>\n",
       "    <tr>\n",
       "      <th>12</th>\n",
       "      <td>442</td>\n",
       "      <td>2908</td>\n",
       "      <td>2.0</td>\n",
       "      <td>1331560472</td>\n",
       "      <td>Boys Don't Cry (1999)</td>\n",
       "      <td>Drama</td>\n",
       "    </tr>\n",
       "    <tr>\n",
       "      <th>17</th>\n",
       "      <td>442</td>\n",
       "      <td>3752</td>\n",
       "      <td>2.0</td>\n",
       "      <td>1331560582</td>\n",
       "      <td>Me, Myself &amp; Irene (2000)</td>\n",
       "      <td>Adventure|Comedy</td>\n",
       "    </tr>\n",
       "  </tbody>\n",
       "</table>\n",
       "</div>"
      ],
      "text/plain": [
       "    userId  movieId  rating   timestamp                      title  \\\n",
       "0      442      362     2.5  1331560498    Jungle Book, The (1994)   \n",
       "19     442     4361     2.5  1331560492             Tootsie (1982)   \n",
       "2      442      524     2.0  1331560506                Rudy (1993)   \n",
       "12     442     2908     2.0  1331560472      Boys Don't Cry (1999)   \n",
       "17     442     3752     2.0  1331560582  Me, Myself & Irene (2000)   \n",
       "\n",
       "                        genres  \n",
       "0   Adventure|Children|Romance  \n",
       "19              Comedy|Romance  \n",
       "2                        Drama  \n",
       "12                       Drama  \n",
       "17            Adventure|Comedy  "
      ]
     },
     "execution_count": 28,
     "metadata": {},
     "output_type": "execute_result"
    }
   ],
   "source": [
    "# Getting Top Movies by User 442\n",
    "user_442_rating = ratings[ratings['userId'] == 442]\n",
    "user442_top_movies = pd.merge(user_442_rating, movies, on='movieId')\n",
    "user442_top_movies.sort_values(by='rating', ascending=False).head()"
   ]
  },
  {
   "cell_type": "markdown",
   "id": "a7a65f96",
   "metadata": {},
   "source": [
    "### Euclidean Distance- Recommending Movies to User 2 based on Top Movies rated by User 442"
   ]
  },
  {
   "cell_type": "markdown",
   "id": "b83998e5",
   "metadata": {},
   "source": [
    "As Highest rating given by `User 442` is 2.5, recommending movies to `User 2` by having filter that check movies with rating greater than or equal to 2."
   ]
  },
  {
   "cell_type": "code",
   "execution_count": 29,
   "id": "1fa3be9f",
   "metadata": {},
   "outputs": [
    {
     "name": "stdout",
     "output_type": "stream",
     "text": [
      "movieId\n",
      "362    -1.0\n",
      "524    -1.0\n",
      "2145   -1.0\n",
      "2908   -1.0\n",
      "3752   -1.0\n",
      "4361   -1.0\n",
      "Name: 2, dtype: float64\n",
      "movieId\n",
      "362     2.5\n",
      "524     2.0\n",
      "2145    2.0\n",
      "2908    2.0\n",
      "3752    2.0\n",
      "4361    2.5\n",
      "Name: 442, dtype: float64\n"
     ]
    }
   ],
   "source": [
    "rated_by_442_not_watched_by_2 = (wide.loc[442] >= 2) & (wide.loc[2] != '-1.0')\n",
    "print(wide.loc[2][rated_by_442_not_watched_by_2])\n",
    "print(wide.loc[442][rated_by_442_not_watched_by_2])"
   ]
  },
  {
   "cell_type": "markdown",
   "id": "eaadbb24",
   "metadata": {},
   "source": [
    "## Cosine Distance"
   ]
  },
  {
   "cell_type": "code",
   "execution_count": 30,
   "id": "d9ce64d0",
   "metadata": {},
   "outputs": [
    {
     "data": {
      "text/plain": [
       "userId\n",
       "2      0.000000\n",
       "442    0.042025\n",
       "461    0.046059\n",
       "189    0.046957\n",
       "508    0.049443\n",
       "         ...   \n",
       "610    0.762312\n",
       "448    0.817785\n",
       "599    0.936812\n",
       "474    0.975777\n",
       "414    1.084648\n",
       "Name: 2, Length: 610, dtype: float64"
      ]
     },
     "execution_count": 30,
     "metadata": {},
     "output_type": "execute_result"
    }
   ],
   "source": [
    "cosine_distances = squareform(pdist(wide, metric='cosine'))\n",
    "cosine_df = pd.DataFrame(cosine_distances, columns=wide.index, index=wide.index)\n",
    "cosine_df.loc[2].sort_values()"
   ]
  },
  {
   "cell_type": "markdown",
   "id": "c691961d",
   "metadata": {},
   "source": [
    "`User 341` which was next similar user to `User 2` using Pearson Correlation is not the closest user using Cosine Distance."
   ]
  },
  {
   "cell_type": "code",
   "execution_count": 31,
   "id": "389d20c4",
   "metadata": {},
   "outputs": [
    {
     "data": {
      "text/plain": [
       "0.0892952689103661"
      ]
     },
     "execution_count": 31,
     "metadata": {},
     "output_type": "execute_result"
    }
   ],
   "source": [
    "cosine_df.loc[2].sort_values().loc[341]"
   ]
  },
  {
   "cell_type": "markdown",
   "id": "3c0d0151",
   "metadata": {},
   "source": [
    "Cosine Distance like Euclidean Distance has `User 442` as next similar user to `User 2`"
   ]
  },
  {
   "cell_type": "markdown",
   "id": "f80f56b9",
   "metadata": {},
   "source": [
    "Checking Top Movie ratings given by `User 442` for recommending movies to `User 2`"
   ]
  },
  {
   "cell_type": "code",
   "execution_count": 32,
   "id": "083da0ca",
   "metadata": {},
   "outputs": [
    {
     "name": "stdout",
     "output_type": "stream",
     "text": [
      "2.5\n",
      "320\n"
     ]
    }
   ],
   "source": [
    "#  Getting Top Rating Given by User 442 and Index of it.\n",
    "print(wide.loc[442].max())\n",
    "print(wide.loc[442].argmax())"
   ]
  },
  {
   "cell_type": "code",
   "execution_count": 33,
   "id": "0dc567a5",
   "metadata": {},
   "outputs": [
    {
     "data": {
      "text/html": [
       "<div>\n",
       "<style scoped>\n",
       "    .dataframe tbody tr th:only-of-type {\n",
       "        vertical-align: middle;\n",
       "    }\n",
       "\n",
       "    .dataframe tbody tr th {\n",
       "        vertical-align: top;\n",
       "    }\n",
       "\n",
       "    .dataframe thead th {\n",
       "        text-align: right;\n",
       "    }\n",
       "</style>\n",
       "<table border=\"1\" class=\"dataframe\">\n",
       "  <thead>\n",
       "    <tr style=\"text-align: right;\">\n",
       "      <th></th>\n",
       "      <th>userId</th>\n",
       "      <th>movieId</th>\n",
       "      <th>rating</th>\n",
       "      <th>timestamp</th>\n",
       "      <th>title</th>\n",
       "      <th>genres</th>\n",
       "    </tr>\n",
       "  </thead>\n",
       "  <tbody>\n",
       "    <tr>\n",
       "      <th>0</th>\n",
       "      <td>442</td>\n",
       "      <td>362</td>\n",
       "      <td>2.5</td>\n",
       "      <td>1331560498</td>\n",
       "      <td>Jungle Book, The (1994)</td>\n",
       "      <td>Adventure|Children|Romance</td>\n",
       "    </tr>\n",
       "    <tr>\n",
       "      <th>19</th>\n",
       "      <td>442</td>\n",
       "      <td>4361</td>\n",
       "      <td>2.5</td>\n",
       "      <td>1331560492</td>\n",
       "      <td>Tootsie (1982)</td>\n",
       "      <td>Comedy|Romance</td>\n",
       "    </tr>\n",
       "    <tr>\n",
       "      <th>2</th>\n",
       "      <td>442</td>\n",
       "      <td>524</td>\n",
       "      <td>2.0</td>\n",
       "      <td>1331560506</td>\n",
       "      <td>Rudy (1993)</td>\n",
       "      <td>Drama</td>\n",
       "    </tr>\n",
       "    <tr>\n",
       "      <th>12</th>\n",
       "      <td>442</td>\n",
       "      <td>2908</td>\n",
       "      <td>2.0</td>\n",
       "      <td>1331560472</td>\n",
       "      <td>Boys Don't Cry (1999)</td>\n",
       "      <td>Drama</td>\n",
       "    </tr>\n",
       "    <tr>\n",
       "      <th>17</th>\n",
       "      <td>442</td>\n",
       "      <td>3752</td>\n",
       "      <td>2.0</td>\n",
       "      <td>1331560582</td>\n",
       "      <td>Me, Myself &amp; Irene (2000)</td>\n",
       "      <td>Adventure|Comedy</td>\n",
       "    </tr>\n",
       "  </tbody>\n",
       "</table>\n",
       "</div>"
      ],
      "text/plain": [
       "    userId  movieId  rating   timestamp                      title  \\\n",
       "0      442      362     2.5  1331560498    Jungle Book, The (1994)   \n",
       "19     442     4361     2.5  1331560492             Tootsie (1982)   \n",
       "2      442      524     2.0  1331560506                Rudy (1993)   \n",
       "12     442     2908     2.0  1331560472      Boys Don't Cry (1999)   \n",
       "17     442     3752     2.0  1331560582  Me, Myself & Irene (2000)   \n",
       "\n",
       "                        genres  \n",
       "0   Adventure|Children|Romance  \n",
       "19              Comedy|Romance  \n",
       "2                        Drama  \n",
       "12                       Drama  \n",
       "17            Adventure|Comedy  "
      ]
     },
     "execution_count": 33,
     "metadata": {},
     "output_type": "execute_result"
    }
   ],
   "source": [
    "# Getting Top Movies by User 442\n",
    "user_442_rating = ratings[ratings['userId'] == 442]\n",
    "user442_top_movies = pd.merge(user_442_rating, movies, on='movieId')\n",
    "user442_top_movies.sort_values(by='rating', ascending=False).head()"
   ]
  },
  {
   "cell_type": "markdown",
   "id": "0c90a896",
   "metadata": {},
   "source": [
    "### Cosine Distance- Recommending Movies to User 2 based on Top Movies rated by User 442"
   ]
  },
  {
   "cell_type": "markdown",
   "id": "3ddfbd9a",
   "metadata": {},
   "source": [
    "As Highest rating given by `User 442` is 2.5, recommending movies to `User 2` by having filter that check movies with rating greater than or equal to 2."
   ]
  },
  {
   "cell_type": "code",
   "execution_count": 34,
   "id": "82eac088",
   "metadata": {},
   "outputs": [
    {
     "name": "stdout",
     "output_type": "stream",
     "text": [
      "movieId\n",
      "362    -1.0\n",
      "524    -1.0\n",
      "2145   -1.0\n",
      "2908   -1.0\n",
      "3752   -1.0\n",
      "4361   -1.0\n",
      "Name: 2, dtype: float64\n",
      "movieId\n",
      "362     2.5\n",
      "524     2.0\n",
      "2145    2.0\n",
      "2908    2.0\n",
      "3752    2.0\n",
      "4361    2.5\n",
      "Name: 442, dtype: float64\n"
     ]
    }
   ],
   "source": [
    "rated_by_442_not_watched_by_2 = (wide.loc[442] >= 2) & (wide.loc[2] != '-1.0')\n",
    "print(wide.loc[2][rated_by_442_not_watched_by_2])\n",
    "print(wide.loc[442][rated_by_442_not_watched_by_2])"
   ]
  },
  {
   "cell_type": "markdown",
   "id": "e3649e29",
   "metadata": {},
   "source": [
    "# Movies Recommendations"
   ]
  },
  {
   "cell_type": "markdown",
   "id": "efca07f8",
   "metadata": {},
   "source": [
    "Yes, recommendations from Cosine Distance, Euclidean Distance and Pearson Correlation make sense.\n",
    "\n",
    "User 2 top movies are mostly Adventure, Comedy and Drama. And those Genres movies are recommended. \n",
    "\n",
    "As `User 442` was closest to `User 2` using Cosine and Euclidean Method. Below Movies are recommended."
   ]
  },
  {
   "cell_type": "code",
   "execution_count": 35,
   "id": "eb15656c",
   "metadata": {},
   "outputs": [
    {
     "data": {
      "text/html": [
       "<div>\n",
       "<style scoped>\n",
       "    .dataframe tbody tr th:only-of-type {\n",
       "        vertical-align: middle;\n",
       "    }\n",
       "\n",
       "    .dataframe tbody tr th {\n",
       "        vertical-align: top;\n",
       "    }\n",
       "\n",
       "    .dataframe thead th {\n",
       "        text-align: right;\n",
       "    }\n",
       "</style>\n",
       "<table border=\"1\" class=\"dataframe\">\n",
       "  <thead>\n",
       "    <tr style=\"text-align: right;\">\n",
       "      <th></th>\n",
       "      <th>movieId</th>\n",
       "      <th>title</th>\n",
       "      <th>genres</th>\n",
       "    </tr>\n",
       "  </thead>\n",
       "  <tbody>\n",
       "    <tr>\n",
       "      <th>320</th>\n",
       "      <td>362</td>\n",
       "      <td>Jungle Book, The (1994)</td>\n",
       "      <td>Adventure|Children|Romance</td>\n",
       "    </tr>\n",
       "    <tr>\n",
       "      <th>459</th>\n",
       "      <td>524</td>\n",
       "      <td>Rudy (1993)</td>\n",
       "      <td>Drama</td>\n",
       "    </tr>\n",
       "    <tr>\n",
       "      <th>1603</th>\n",
       "      <td>2145</td>\n",
       "      <td>Pretty in Pink (1986)</td>\n",
       "      <td>Comedy|Drama|Romance</td>\n",
       "    </tr>\n",
       "    <tr>\n",
       "      <th>2190</th>\n",
       "      <td>2908</td>\n",
       "      <td>Boys Don't Cry (1999)</td>\n",
       "      <td>Drama</td>\n",
       "    </tr>\n",
       "    <tr>\n",
       "      <th>2807</th>\n",
       "      <td>3752</td>\n",
       "      <td>Me, Myself &amp; Irene (2000)</td>\n",
       "      <td>Adventure|Comedy</td>\n",
       "    </tr>\n",
       "    <tr>\n",
       "      <th>3229</th>\n",
       "      <td>4361</td>\n",
       "      <td>Tootsie (1982)</td>\n",
       "      <td>Comedy|Romance</td>\n",
       "    </tr>\n",
       "  </tbody>\n",
       "</table>\n",
       "</div>"
      ],
      "text/plain": [
       "      movieId                      title                      genres\n",
       "320       362    Jungle Book, The (1994)  Adventure|Children|Romance\n",
       "459       524                Rudy (1993)                       Drama\n",
       "1603     2145      Pretty in Pink (1986)        Comedy|Drama|Romance\n",
       "2190     2908      Boys Don't Cry (1999)                       Drama\n",
       "2807     3752  Me, Myself & Irene (2000)            Adventure|Comedy\n",
       "3229     4361             Tootsie (1982)              Comedy|Romance"
      ]
     },
     "execution_count": 35,
     "metadata": {},
     "output_type": "execute_result"
    }
   ],
   "source": [
    "#Movies recommended by Cosine and Euclidean Method based on closest user User442 Data\n",
    "movies[movies['movieId'].isin([362, 524, 2145, 2908, 3752, 4361])]"
   ]
  },
  {
   "cell_type": "markdown",
   "id": "43c62d79",
   "metadata": {},
   "source": [
    "# Analysis/Summary"
   ]
  },
  {
   "cell_type": "markdown",
   "id": "3fe66614",
   "metadata": {},
   "source": [
    "First I loaded movies and ratings data. Then worked on finding Number of movies watched by `User 2`, it was found that `User 2` has watched `29` movies. Then plotted Bar Chart of Movie Ratings for `User 2`. `User 2` has rating count more in Rating \"4\". Also plotted Bar Chart of Movie Ratings for `All Users` and it shows that count of Rating \"4\" is more compared to other ratings.\n",
    "\n",
    "Worked on getting User 2's Top Movies and it shows `User 2` has watched mostly Adventure, Drama and Comedy movies. `User 2` gave top 5 Movies rating of \"5\".\n",
    "\n",
    "Transformed ratings DataFrame to \"Wide\" format for calculating similarities between users. Pearson Correlation method shows that `User 341` is closest to `User 2`. Based on `User 341` Data got recommendation of movies for `User 2`.\n",
    "\n",
    "Cosine and Euclidean method showed that `User 442` is closest to `User 2`. As `User 442` highest rating is \"2.5\" filtered movies with rating greater than or equal to \"2\". 6 Movies were recommended and those movies are similar to movies that `User 2` has rated high."
   ]
  },
  {
   "cell_type": "markdown",
   "id": "6a74fcad",
   "metadata": {},
   "source": [
    "# References"
   ]
  },
  {
   "cell_type": "markdown",
   "id": "79e864a9",
   "metadata": {},
   "source": [
    "Gannous, A. (2022) MSDS 600 - From the Experts: Recommender Systems. World Class. Anderson College of Business & Computing. Regis University.\n",
    "\n",
    "George, N. (2021) MSDS 600 - From the Experts: Recommender Systems.. World Class. Anderson College of Business & Computing. Regis University."
   ]
  },
  {
   "cell_type": "code",
   "execution_count": null,
   "id": "19705be3",
   "metadata": {},
   "outputs": [],
   "source": []
  }
 ],
 "metadata": {
  "kernelspec": {
   "display_name": "Python 3 (ipykernel)",
   "language": "python",
   "name": "python3"
  },
  "language_info": {
   "codemirror_mode": {
    "name": "ipython",
    "version": 3
   },
   "file_extension": ".py",
   "mimetype": "text/x-python",
   "name": "python",
   "nbconvert_exporter": "python",
   "pygments_lexer": "ipython3",
   "version": "3.9.7"
  }
 },
 "nbformat": 4,
 "nbformat_minor": 5
}
